{
 "cells": [
  {
   "cell_type": "code",
   "execution_count": null,
   "metadata": {},
   "outputs": [],
   "source": [
    "import time "
   ]
  },
  {
   "cell_type": "code",
   "execution_count": null,
   "metadata": {},
   "outputs": [],
   "source": [
    "print (\"Informe os valores de a,b e c na equação de segundo grau\")\n",
    "a = int(input('a: '))\n",
    "b = int(input('b: '))\n",
    "c = int(input('c: '))"
   ]
  },
  {
   "cell_type": "code",
   "execution_count": null,
   "metadata": {},
   "outputs": [],
   "source": [
    "print(f'Equação: {a}x^2+{b}x+{c}=0')\n",
    "time.sleep(2)"
   ]
  },
  {
   "cell_type": "code",
   "execution_count": null,
   "metadata": {},
   "outputs": [],
   "source": [
    "D = b**2-4*a*c\n",
    "print(f'Delta: {D:.2f}')\n",
    "time.sleep(2)"
   ]
  },
  {
   "cell_type": "code",
   "execution_count": null,
   "metadata": {},
   "outputs": [],
   "source": [
    "x1 = (-b+D**(1/2)/2*a)\n",
    "x2 = (-b-D**(1/2)/2*a)\n",
    "print(f'X1 ={x1:.2f}')\n",
    "print(f'X2 ={x2:.2f}')\n",
    "time.sleep(2)"
   ]
  }
 ],
 "metadata": {
  "language_info": {
   "name": "python"
  }
 },
 "nbformat": 4,
 "nbformat_minor": 2
}
